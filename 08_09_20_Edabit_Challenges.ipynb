{
 "metadata": {
  "language_info": {
   "codemirror_mode": {
    "name": "ipython",
    "version": 3
   },
   "file_extension": ".py",
   "mimetype": "text/x-python",
   "name": "python",
   "nbconvert_exporter": "python",
   "pygments_lexer": "ipython3",
   "version": "3.8.5-final"
  },
  "orig_nbformat": 2,
  "kernelspec": {
   "name": "python_defaultSpec_1599544568942",
   "display_name": "Python 3.8.5 64-bit"
  }
 },
 "nbformat": 4,
 "nbformat_minor": 2,
 "cells": [
  {
   "cell_type": "markdown",
   "metadata": {},
   "source": [
    "Freshly Made Pizzas"
   ]
  },
  {
   "cell_type": "markdown",
   "metadata": {},
   "source": [
    "https://edabit.com/challenge/7FyTyi68Df2CxLx6C"
   ]
  },
  {
   "cell_type": "code",
   "execution_count": 10,
   "metadata": {},
   "outputs": [],
   "source": [
    "class Pizza:\n",
    "    count = 0\n",
    "    def __init__(self, ingredients):\n",
    "        self.ingredients = ingredients\n",
    "        Pizza.count += 1\n",
    "        self.order_number = Pizza.count\n",
    "    @classmethod\n",
    "    def garden_feast(cls):\n",
    "        return cls(['spinach', 'olives', 'mushroom'])\n",
    "    @classmethod\n",
    "    def hawaiian(cls):\n",
    "        return cls(['ham', 'pineapple'])\n",
    "    @classmethod\n",
    "    def meat_festival(cls):\n",
    "        return cls(['beef', 'meatball', 'bacon'])"
   ]
  },
  {
   "cell_type": "code",
   "execution_count": 11,
   "metadata": {},
   "outputs": [],
   "source": [
    "p1 = Pizza([\"bacon\", \"parmesan\", \"ham\"])    # order 1\n",
    "p2 = Pizza.garden_feast()                  # order 2"
   ]
  },
  {
   "cell_type": "code",
   "execution_count": 12,
   "metadata": {},
   "outputs": [
    {
     "output_type": "execute_result",
     "data": {
      "text/plain": "['bacon', 'parmesan', 'ham']"
     },
     "metadata": {},
     "execution_count": 12
    }
   ],
   "source": [
    "p1.ingredients"
   ]
  },
  {
   "cell_type": "code",
   "execution_count": 13,
   "metadata": {},
   "outputs": [
    {
     "output_type": "execute_result",
     "data": {
      "text/plain": "['spinach', 'olives', 'mushroom']"
     },
     "metadata": {},
     "execution_count": 13
    }
   ],
   "source": [
    "p2.ingredients"
   ]
  },
  {
   "cell_type": "code",
   "execution_count": 14,
   "metadata": {},
   "outputs": [
    {
     "output_type": "execute_result",
     "data": {
      "text/plain": "1"
     },
     "metadata": {},
     "execution_count": 14
    }
   ],
   "source": [
    "p1.order_number"
   ]
  },
  {
   "cell_type": "code",
   "execution_count": 15,
   "metadata": {},
   "outputs": [
    {
     "output_type": "execute_result",
     "data": {
      "text/plain": "2"
     },
     "metadata": {},
     "execution_count": 15
    }
   ],
   "source": [
    "p2.order_number"
   ]
  },
  {
   "cell_type": "code",
   "execution_count": 16,
   "metadata": {},
   "outputs": [],
   "source": [
    "p3 = Pizza.meat_festival()"
   ]
  },
  {
   "cell_type": "code",
   "execution_count": 17,
   "metadata": {},
   "outputs": [
    {
     "output_type": "execute_result",
     "data": {
      "text/plain": "['beef', 'meatball', 'bacon']"
     },
     "metadata": {},
     "execution_count": 17
    }
   ],
   "source": [
    "p3.ingredients"
   ]
  },
  {
   "cell_type": "code",
   "execution_count": 18,
   "metadata": {},
   "outputs": [
    {
     "output_type": "execute_result",
     "data": {
      "text/plain": "3"
     },
     "metadata": {},
     "execution_count": 18
    }
   ],
   "source": [
    "p3.order_number"
   ]
  },
  {
   "cell_type": "markdown",
   "metadata": {},
   "source": [
    "Baska bir Ornek"
   ]
  },
  {
   "cell_type": "code",
   "execution_count": null,
   "metadata": {},
   "outputs": [],
   "source": [
    "class Cheese(object):\n",
    "    def __init__(self, num_holes=0):\n",
    "        \"defaults to a solid cheese\"\n",
    "        self.number_of_holes = num_holes\n",
    "\n",
    "    @classmethod\n",
    "    def random(cls):\n",
    "        return cls(randint(0, 100))\n",
    "\n",
    "    @classmethod\n",
    "    def slightly_holey(cls):\n",
    "        return cls(randint(0, 33))\n",
    "\n",
    "    @classmethod\n",
    "    def very_holey(cls):\n",
    "        return cls(randint(66, 100))"
   ]
  },
  {
   "cell_type": "code",
   "execution_count": null,
   "metadata": {},
   "outputs": [],
   "source": [
    "parmesan = Cheese(num_holes = 15)\n",
    "gouda = Cheese()"
   ]
  },
  {
   "cell_type": "code",
   "execution_count": null,
   "metadata": {},
   "outputs": [],
   "source": [
    "parmesan.number_of_holes"
   ]
  },
  {
   "cell_type": "code",
   "execution_count": null,
   "metadata": {},
   "outputs": [],
   "source": [
    "gouda.number_of_holes"
   ]
  }
 ]
}