{
 "metadata": {
  "language_info": {
   "codemirror_mode": {
    "name": "ipython",
    "version": 3
   },
   "file_extension": ".py",
   "mimetype": "text/x-python",
   "name": "python",
   "nbconvert_exporter": "python",
   "pygments_lexer": "ipython3",
   "version": 3
  },
  "orig_nbformat": 2,
  "kernelspec": {
   "name": "python_defaultSpec_1597043196954",
   "display_name": "Python 3.8.5 64-bit"
  }
 },
 "nbformat": 4,
 "nbformat_minor": 2,
 "cells": [
  {
   "cell_type": "markdown",
   "metadata": {},
   "source": [
    "https://edabit.com/challenge/S9KCN5kqoDbhNdKh5"
   ]
  },
  {
   "cell_type": "code",
   "execution_count": 13,
   "metadata": {},
   "outputs": [],
   "source": [
    "def count_characters(lst):\n",
    "\treturn 0 if lst == [] else len(lst) * len(lst[0]) "
   ]
  },
  {
   "cell_type": "code",
   "execution_count": 31,
   "metadata": {},
   "outputs": [
    {
     "output_type": "execute_result",
     "data": {
      "text/plain": "16"
     },
     "metadata": {},
     "execution_count": 31
    }
   ],
   "source": [
    "def count_characters(lst):\n",
    "    return sum(len(i) for i in lst)\n",
    "    \n",
    "count_characters([\n",
    "  \"22222222\",\n",
    "  \"22222222\",\n",
    "])\n"
   ]
  },
  {
   "cell_type": "markdown",
   "metadata": {},
   "source": [
    "https://edabit.com/challenge/gt9LLufDCMHKMioh2"
   ]
  },
  {
   "cell_type": "code",
   "execution_count": null,
   "metadata": {},
   "outputs": [],
   "source": [
    "def stutter(word):\n",
    "\treturn ((word[:2] + '... ') * 2 + word + '?')"
   ]
  },
  {
   "cell_type": "markdown",
   "metadata": {},
   "source": [
    "https://edabit.com/challenge/eAnhzXPeGbobqk2P2"
   ]
  },
  {
   "cell_type": "markdown",
   "metadata": {},
   "source": []
  },
  {
   "cell_type": "code",
   "execution_count": 13,
   "metadata": {},
   "outputs": [],
   "source": [
    "def century(year):\n",
    "\tfull = year // 100\n",
    "\tfull_plus  = (year // 100) + 1\n",
    "\tif year == 1000 or year == 1500 or year == 2000:\n",
    "\t\tprint(f'{full}th century')\n",
    "\telif year > 2000:\n",
    "\t\tprint(f'{full_plus}st century')\n",
    "\telif year > 1000:\n",
    "\t\tprint(f'{full_plus}th century')"
   ]
  },
  {
   "cell_type": "code",
   "execution_count": 14,
   "metadata": {
    "tags": []
   },
   "outputs": [
    {
     "output_type": "stream",
     "name": "stdout",
     "text": "18th century\n16th century\n10th century\n11th century\n23st century\n"
    }
   ],
   "source": [
    "century(1756)\n",
    "\n",
    "century(1555)\n",
    "\n",
    "century(1000)\n",
    "\n",
    "century(1001)\n",
    "\n",
    "century(2200)"
   ]
  },
  {
   "cell_type": "markdown",
   "metadata": {},
   "source": [
    "Edabitin kabul etigi cozum"
   ]
  },
  {
   "cell_type": "code",
   "execution_count": null,
   "metadata": {},
   "outputs": [],
   "source": [
    "def century(year):\n",
    "\tfull = int(year / 100)\n",
    "\tfull_plus  = (year // 100) + 1\n",
    "\tif year == 1000 or year == 1500 or year == 2000:\n",
    "\t\treturn '{}th century'.format(full)\n",
    "\telif year > 2000:\n",
    "\t\treturn '{}st century'.format(full_plus)\n",
    "\telif year > 1000:\n",
    "\t\treturn '{}th century'.format(full_plus)"
   ]
  },
  {
   "cell_type": "code",
   "execution_count": null,
   "metadata": {},
   "outputs": [],
   "source": [
    "def century(year):\n",
    "    full = year // 100\n",
    "    full_plus  = (year // 100) + 1\n",
    "    if full == 20:\n",
    "        return '21st century'\n",
    "    elif year % 100 == 0:\n",
    "        return '{}th century'.format(full)\n",
    "    else:\n",
    "        return '{}th century'.format(full_plus)"
   ]
  },
  {
   "cell_type": "markdown",
   "metadata": {},
   "source": [
    "Begenilen bir cozum"
   ]
  },
  {
   "cell_type": "code",
   "execution_count": null,
   "metadata": {},
   "outputs": [],
   "source": [
    "def century(year):\n",
    "\tcentury_no = str((year + 99 ) // 100)\n",
    "\treturn '21st century' if century_no == '21' else century_no + 'th century'"
   ]
  },
  {
   "cell_type": "code",
   "execution_count": 27,
   "metadata": {
    "tags": []
   },
   "outputs": [
    {
     "output_type": "stream",
     "name": "stdout",
     "text": "18th century\n16th century\n10th century\n11th century\n21st century\n"
    }
   ],
   "source": [
    "century(1756)\n",
    "\n",
    "century(1555)\n",
    "\n",
    "century(1000)\n",
    "\n",
    "century(1001)\n",
    "\n",
    "century(2005)"
   ]
  },
  {
   "cell_type": "markdown",
   "metadata": {},
   "source": [
    "https://edabit.com/challenge/TcJXTPJBsfJ2Wgkk4"
   ]
  },
  {
   "cell_type": "code",
   "execution_count": 4,
   "metadata": {},
   "outputs": [],
   "source": [
    "import math\n",
    "def paths(n):\n",
    "\treturn math.factorial(n)"
   ]
  },
  {
   "cell_type": "code",
   "execution_count": 5,
   "metadata": {},
   "outputs": [
    {
     "output_type": "execute_result",
     "data": {
      "text/plain": "5040"
     },
     "metadata": {},
     "execution_count": 5
    }
   ],
   "source": [
    "paths(7)"
   ]
  },
  {
   "cell_type": "code",
   "execution_count": 6,
   "metadata": {},
   "outputs": [],
   "source": [
    "def paths(n):\n",
    "    return 1 if n == 1 else n * paths(n -1)"
   ]
  },
  {
   "cell_type": "code",
   "execution_count": 7,
   "metadata": {},
   "outputs": [
    {
     "output_type": "execute_result",
     "data": {
      "text/plain": "120"
     },
     "metadata": {},
     "execution_count": 7
    }
   ],
   "source": [
    "paths(5)"
   ]
  },
  {
   "cell_type": "code",
   "execution_count": null,
   "metadata": {},
   "outputs": [],
   "source": []
  }
 ]
}