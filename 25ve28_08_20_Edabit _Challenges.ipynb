{
 "metadata": {
  "language_info": {
   "codemirror_mode": {
    "name": "ipython",
    "version": 3
   },
   "file_extension": ".py",
   "mimetype": "text/x-python",
   "name": "python",
   "nbconvert_exporter": "python",
   "pygments_lexer": "ipython3",
   "version": "3.8.5-final"
  },
  "orig_nbformat": 2,
  "kernelspec": {
   "name": "python_defaultSpec_1599541943884",
   "display_name": "Python 3.8.5 64-bit"
  }
 },
 "nbformat": 4,
 "nbformat_minor": 2,
 "cells": [
  {
   "cell_type": "markdown",
   "metadata": {},
   "source": [
    "Make a Circle with OOP"
   ]
  },
  {
   "cell_type": "markdown",
   "metadata": {},
   "source": [
    "https://edabit.com/challenge/nC7iHBbN8FEPy2EJ2"
   ]
  },
  {
   "cell_type": "code",
   "execution_count": 22,
   "metadata": {},
   "outputs": [],
   "source": [
    "import math\n",
    "class Rectangle:\n",
    "\n",
    "\tdef __init__(self, sideA=0, sideB=0):\n",
    "\t\tself.sideA = sideA\n",
    "\t\tself.sideB = sideB\n",
    "\n",
    "\tdef getArea(self):\n",
    "\t\treturn self.sideA * self.sideB\n",
    "  \n",
    "\tdef getPerimeter(self):\n",
    "\t\treturn 2 * (self.sideA + self.sideB)\n",
    "\n",
    "class Circle:\n",
    "\n",
    "\tdef __init__(self,radius):\n",
    "\t\tself.radius = radius\n",
    "\n",
    "\tdef getArea(self):\n",
    "\t\treturn round(math.pi * self.radius ** 2)\n",
    "  \n",
    "\tdef getPerimeter(self):\n",
    "\t\treturn round(2 * math.pi * self.radius)"
   ]
  },
  {
   "cell_type": "code",
   "execution_count": 23,
   "metadata": {},
   "outputs": [],
   "source": [
    "circy = Circle(11)"
   ]
  },
  {
   "cell_type": "code",
   "execution_count": 24,
   "metadata": {},
   "outputs": [
    {
     "output_type": "execute_result",
     "data": {
      "text/plain": "380"
     },
     "metadata": {},
     "execution_count": 24
    }
   ],
   "source": [
    "circy.getArea() \n",
    "# Should return 380.132711084365"
   ]
  },
  {
   "cell_type": "code",
   "execution_count": 25,
   "metadata": {},
   "outputs": [
    {
     "output_type": "execute_result",
     "data": {
      "text/plain": "28"
     },
     "metadata": {},
     "execution_count": 25
    }
   ],
   "source": [
    "circy = Circle(4.44)\n",
    "circy.getPerimeter()\n",
    "# Should return 27.897342763877365"
   ]
  },
  {
   "cell_type": "markdown",
   "metadata": {},
   "source": [
    "Employee Parsing"
   ]
  },
  {
   "cell_type": "markdown",
   "metadata": {},
   "source": [
    "https://edabit.com/challenge/j2HauiSdDadkjxjsQ"
   ]
  },
  {
   "cell_type": "code",
   "execution_count": null,
   "metadata": {},
   "outputs": [],
   "source": [
    "class Employee:\n",
    "\tdef __init__(self, firstname, lastname, salary):\n",
    "\t\tself.firstname = firstname\n",
    "\t\tself.lastname = lastname\n",
    "\t\tself.salary = salary\n",
    "\t@classmethod\n",
    "\tdef from_string(cls, string):\n",
    "\t\tfirstname, lastname, salary = string.split('-')\n",
    "\t\treturn cls(firstname, lastname, int(salary))"
   ]
  },
  {
   "cell_type": "code",
   "execution_count": null,
   "metadata": {},
   "outputs": [],
   "source": []
  },
  {
   "cell_type": "code",
   "execution_count": null,
   "metadata": {},
   "outputs": [],
   "source": []
  },
  {
   "cell_type": "markdown",
   "metadata": {},
   "source": [
    "Friday the 13th"
   ]
  },
  {
   "cell_type": "markdown",
   "metadata": {},
   "source": [
    "https://edabit.com/challenge/Xkc2iAjwCap2z9N5D"
   ]
  },
  {
   "cell_type": "code",
   "execution_count": null,
   "metadata": {},
   "outputs": [],
   "source": [
    "\n",
    "\n",
    "\n",
    "\n"
   ]
  },
  {
   "cell_type": "code",
   "execution_count": null,
   "metadata": {},
   "outputs": [],
   "source": [
    "print(has_friday_13(3, 2020))\n",
    "\n",
    "print(has_friday_13(10, 2017))\n",
    "\n",
    "print(has_friday_13(1, 1985))"
   ]
  },
  {
   "cell_type": "markdown",
   "metadata": {},
   "source": [
    "Food for Everyone!"
   ]
  },
  {
   "cell_type": "markdown",
   "metadata": {},
   "source": [
    "https://edabit.com/challenge/iRvRtg2xxL9BnSEvf"
   ]
  },
  {
   "cell_type": "code",
   "execution_count": 4,
   "metadata": {},
   "outputs": [
    {
     "output_type": "execute_result",
     "data": {
      "text/plain": "['ice cream']"
     },
     "metadata": {},
     "execution_count": 4
    }
   ],
   "source": [
    "list([\"ice cream\"])"
   ]
  },
  {
   "cell_type": "code",
   "execution_count": 3,
   "metadata": {},
   "outputs": [
    {
     "output_type": "execute_result",
     "data": {
      "text/plain": "['ice cream', 'banana', 'mango']"
     },
     "metadata": {},
     "execution_count": 3
    }
   ],
   "source": [
    "list(['ice cream' , 'banana', 'mango'])"
   ]
  },
  {
   "cell_type": "code",
   "execution_count": null,
   "metadata": {},
   "outputs": [],
   "source": [
    "class Person:\n",
    "    def __init__(self, person_name, like_list, hate_list):\n",
    "        self.person_name = person_name\n",
    "        self.like_list = list(like_list)\n",
    "        self.hate_list = list(hate_list)\n",
    "    \n",
    "    def taste(self, food_name):\n",
    "        self.food = food_name\n",
    "        if food_name in like_list:\n",
    "            return '{} eats the {} and loves it!'.format(person_name, food_name)\n",
    "        elif food_name in hate_list:\n",
    "            return '{} eats the {} and hates it!'.format(person_name, food_name)\n",
    "        else:\n",
    "            return '{} eats the {}!'.format(person_name, food_name)"
   ]
  },
  {
   "cell_type": "code",
   "execution_count": 13,
   "metadata": {},
   "outputs": [],
   "source": [
    "p1 = Person(\"Sam\", [\"ice cream\"], [\"carrots\"])"
   ]
  },
  {
   "cell_type": "code",
   "execution_count": 14,
   "metadata": {},
   "outputs": [
    {
     "output_type": "error",
     "ename": "NameError",
     "evalue": "name 'like_list' is not defined",
     "traceback": [
      "\u001b[1;31m---------------------------------------------------------------------------\u001b[0m",
      "\u001b[1;31mNameError\u001b[0m                                 Traceback (most recent call last)",
      "\u001b[1;32m<ipython-input-14-f285e088a3bc>\u001b[0m in \u001b[0;36m<module>\u001b[1;34m\u001b[0m\n\u001b[1;32m----> 1\u001b[1;33m \u001b[0mprint\u001b[0m\u001b[1;33m(\u001b[0m\u001b[0mp1\u001b[0m\u001b[1;33m.\u001b[0m\u001b[0mtaste\u001b[0m\u001b[1;33m(\u001b[0m\u001b[1;34m\"ice cream\"\u001b[0m\u001b[1;33m)\u001b[0m\u001b[1;33m)\u001b[0m\u001b[1;33m\u001b[0m\u001b[1;33m\u001b[0m\u001b[0m\n\u001b[0m\u001b[0;32m      2\u001b[0m \u001b[1;33m\u001b[0m\u001b[0m\n\u001b[0;32m      3\u001b[0m \u001b[0mprint\u001b[0m\u001b[1;33m(\u001b[0m\u001b[0mp1\u001b[0m\u001b[1;33m.\u001b[0m\u001b[0mtaste\u001b[0m\u001b[1;33m(\u001b[0m\u001b[1;34m\"cheese\"\u001b[0m\u001b[1;33m)\u001b[0m\u001b[1;33m)\u001b[0m\u001b[1;33m\u001b[0m\u001b[1;33m\u001b[0m\u001b[0m\n\u001b[0;32m      4\u001b[0m \u001b[1;33m\u001b[0m\u001b[0m\n\u001b[0;32m      5\u001b[0m \u001b[0mprint\u001b[0m\u001b[1;33m(\u001b[0m\u001b[0mp1\u001b[0m\u001b[1;33m.\u001b[0m\u001b[0mtaste\u001b[0m\u001b[1;33m(\u001b[0m\u001b[1;34m\"carrots\"\u001b[0m\u001b[1;33m)\u001b[0m\u001b[1;33m)\u001b[0m\u001b[1;33m\u001b[0m\u001b[1;33m\u001b[0m\u001b[0m\n",
      "\u001b[1;32m<ipython-input-12-ff692c471f2d>\u001b[0m in \u001b[0;36mtaste\u001b[1;34m(self, food_name)\u001b[0m\n\u001b[0;32m      7\u001b[0m     \u001b[1;32mdef\u001b[0m \u001b[0mtaste\u001b[0m\u001b[1;33m(\u001b[0m\u001b[0mself\u001b[0m\u001b[1;33m,\u001b[0m \u001b[0mfood_name\u001b[0m\u001b[1;33m)\u001b[0m\u001b[1;33m:\u001b[0m\u001b[1;33m\u001b[0m\u001b[1;33m\u001b[0m\u001b[0m\n\u001b[0;32m      8\u001b[0m         \u001b[0mself\u001b[0m\u001b[1;33m.\u001b[0m\u001b[0mfood\u001b[0m \u001b[1;33m=\u001b[0m \u001b[0mfood_name\u001b[0m\u001b[1;33m\u001b[0m\u001b[1;33m\u001b[0m\u001b[0m\n\u001b[1;32m----> 9\u001b[1;33m         \u001b[1;32mif\u001b[0m \u001b[0mfood_name\u001b[0m \u001b[1;32min\u001b[0m \u001b[0mlike_list\u001b[0m\u001b[1;33m:\u001b[0m\u001b[1;33m\u001b[0m\u001b[1;33m\u001b[0m\u001b[0m\n\u001b[0m\u001b[0;32m     10\u001b[0m             \u001b[1;32mreturn\u001b[0m \u001b[1;34m'{} eats the {} and loves it!'\u001b[0m\u001b[1;33m.\u001b[0m\u001b[0mformat\u001b[0m\u001b[1;33m(\u001b[0m\u001b[0mperson_name\u001b[0m\u001b[1;33m,\u001b[0m \u001b[0mfood_name\u001b[0m\u001b[1;33m)\u001b[0m\u001b[1;33m\u001b[0m\u001b[1;33m\u001b[0m\u001b[0m\n\u001b[0;32m     11\u001b[0m         \u001b[1;32melif\u001b[0m \u001b[0mfood_name\u001b[0m \u001b[1;32min\u001b[0m \u001b[0mhate_list\u001b[0m\u001b[1;33m:\u001b[0m\u001b[1;33m\u001b[0m\u001b[1;33m\u001b[0m\u001b[0m\n",
      "\u001b[1;31mNameError\u001b[0m: name 'like_list' is not defined"
     ]
    }
   ],
   "source": [
    "print(p1.taste(\"ice cream\"))\n",
    "\n",
    "print(p1.taste(\"cheese\"))\n",
    "\n",
    "print(p1.taste(\"carrots\"))"
   ]
  },
  {
   "cell_type": "code",
   "execution_count": null,
   "metadata": {},
   "outputs": [],
   "source": []
  },
  {
   "cell_type": "code",
   "execution_count": 13,
   "metadata": {},
   "outputs": [],
   "source": [
    "class Person:\n",
    "    def __init__(self, person_name, like_list=None, hate_list=None):\n",
    "        self.person_name = person_name\n",
    "        self.like_list = list(like_list)\n",
    "        self.hate_list = list(hate_list)\n",
    "\n",
    "    \n",
    "    def taste(self, food_name):\n",
    "        self.food = food_name\n",
    "        if food_name in self.like_list:\n",
    "            return '{} eats the {} and loves it!'.format(self.person_name, food_name)\n",
    "        elif food_name in self.hate_list:\n",
    "            return '{} eats the {} and hates it!'.format(self.person_name, food_name)\n",
    "        else:\n",
    "            return '{} eats the {}!'.format(self.person_name, food_name)"
   ]
  },
  {
   "cell_type": "code",
   "execution_count": 14,
   "metadata": {},
   "outputs": [],
   "source": [
    "p1 = Person(\"Sam\", [\"ice cream\"], [\"carrots\"])"
   ]
  },
  {
   "cell_type": "code",
   "execution_count": 15,
   "metadata": {
    "tags": []
   },
   "outputs": [
    {
     "output_type": "stream",
     "name": "stdout",
     "text": "Sam eats the ice cream and loves it!\nSam eats the cheese!\nSam eats the carrots and hates it!\n"
    }
   ],
   "source": [
    "print(p1.taste(\"ice cream\"))\n",
    "\n",
    "print(p1.taste(\"cheese\"))\n",
    "\n",
    "print(p1.taste(\"carrots\"))"
   ]
  },
  {
   "cell_type": "code",
   "execution_count": 16,
   "metadata": {},
   "outputs": [],
   "source": [
    "class Person:\n",
    "    def __init__(self, person_name, like_list=[], hate_list=[]):\n",
    "        self.person_name = person_name\n",
    "        self.like_list = like_list\n",
    "        self.hate_list = hate_list\n",
    "\n",
    "    \n",
    "    def taste(self, food_name):\n",
    "        self.food = food_name\n",
    "        if food_name in self.like_list:\n",
    "            return '{} eats the {} and loves it!'.format(self.person_name, food_name)\n",
    "        elif food_name in self.hate_list:\n",
    "            return '{} eats the {} and hates it!'.format(self.person_name, food_name)\n",
    "        else:\n",
    "            return '{} eats the {}!'.format(self.person_name, food_name)"
   ]
  },
  {
   "cell_type": "code",
   "execution_count": 17,
   "metadata": {},
   "outputs": [],
   "source": [
    "p1 = Person(\"Sam\", [\"ice cream\"], [\"carrots\"])"
   ]
  },
  {
   "cell_type": "code",
   "execution_count": 18,
   "metadata": {
    "tags": []
   },
   "outputs": [
    {
     "output_type": "stream",
     "name": "stdout",
     "text": "Sam eats the ice cream and loves it!\nSam eats the cheese!\nSam eats the carrots and hates it!\n"
    }
   ],
   "source": [
    "print(p1.taste(\"ice cream\"))\n",
    "\n",
    "print(p1.taste(\"cheese\"))\n",
    "\n",
    "print(p1.taste(\"carrots\"))"
   ]
  },
  {
   "cell_type": "markdown",
   "metadata": {},
   "source": [
    "Big Countries"
   ]
  },
  {
   "cell_type": "code",
   "execution_count": null,
   "metadata": {},
   "outputs": [],
   "source": [
    "https://edabit.com/challenge/smLmHK89zNoeaDSZp"
   ]
  },
  {
   "cell_type": "code",
   "execution_count": 6,
   "metadata": {},
   "outputs": [],
   "source": [
    "class Country:\n",
    "\n",
    "\tdef __init__(self, name, population, area):\n",
    "\t\tself.name = name\n",
    "\t\tself.population = population\n",
    "\t\tself.area = area\n",
    "\t\tself.is_big = True if (population > 25e7 or area > 3e6) else False\n",
    "\t\tself.density = population / area\n",
    "\t\t\n",
    "\tdef compare_pd(self, other):\n",
    "\t\tself.other = other\n",
    "\t\tif self.density > other.density:\n",
    "\t\t\treturn '{} has a larger population density than {}'.format(self.name, other.name)\n",
    "\t\telse:\n",
    "\t\t\treturn '{} has a smaller population density than {}'.format(self.name, other.name)\n",
    "\t\t\t"
   ]
  },
  {
   "cell_type": "code",
   "execution_count": 7,
   "metadata": {},
   "outputs": [],
   "source": [
    "australia = Country('Australia', 23545500, 7692024)\n",
    "andorra = Country('Andorra', 76098, 468)\n",
    "brazil = Country('Brazil', 202794000, 8515767)\n",
    "china = Country('China', 1393000000, 9597000)\n",
    "madagascar = Country('Madagascar', 26260000, 587000)"
   ]
  },
  {
   "cell_type": "code",
   "execution_count": 8,
   "metadata": {
    "tags": []
   },
   "outputs": [
    {
     "output_type": "stream",
     "name": "stdout",
     "text": "True\nFalse\nAndorra has a larger population density than Australia\n"
    }
   ],
   "source": [
    "print(australia.is_big)\n",
    "print(andorra.is_big)\n",
    "print(andorra.compare_pd(australia))"
   ]
  },
  {
   "cell_type": "code",
   "execution_count": 2,
   "metadata": {},
   "outputs": [],
   "source": [
    "class Calculator:\n",
    "\tdef add(self,a,b):\n",
    "\t\treturn a + b\n",
    "\tdef subtract(self,a,b):\n",
    "\t\treturn a - b\n",
    "\tdef multiply(self,a,b):\n",
    "\t\treturn a * b\n",
    "\tdef divide(self,a,b):\n",
    "\t\treturn a / b"
   ]
  },
  {
   "cell_type": "code",
   "execution_count": null,
   "metadata": {},
   "outputs": [],
   "source": []
  },
  {
   "cell_type": "code",
   "execution_count": null,
   "metadata": {},
   "outputs": [],
   "source": []
  }
 ]
}