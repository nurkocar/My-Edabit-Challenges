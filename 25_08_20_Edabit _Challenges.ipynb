{
 "metadata": {
  "language_info": {
   "codemirror_mode": {
    "name": "ipython",
    "version": 3
   },
   "file_extension": ".py",
   "mimetype": "text/x-python",
   "name": "python",
   "nbconvert_exporter": "python",
   "pygments_lexer": "ipython3",
   "version": "3.8.5-final"
  },
  "orig_nbformat": 2,
  "kernelspec": {
   "name": "python_defaultSpec_1598575765918",
   "display_name": "Python 3.8.5 64-bit"
  }
 },
 "nbformat": 4,
 "nbformat_minor": 2,
 "cells": [
  {
   "cell_type": "markdown",
   "metadata": {},
   "source": [
    "Make a Circle with OOP"
   ]
  },
  {
   "cell_type": "markdown",
   "metadata": {},
   "source": [
    "https://edabit.com/challenge/nC7iHBbN8FEPy2EJ2"
   ]
  },
  {
   "cell_type": "code",
   "execution_count": 22,
   "metadata": {},
   "outputs": [],
   "source": [
    "import math\n",
    "class Rectangle:\n",
    "\n",
    "\tdef __init__(self, sideA=0, sideB=0):\n",
    "\t\tself.sideA = sideA\n",
    "\t\tself.sideB = sideB\n",
    "\n",
    "\tdef getArea(self):\n",
    "\t\treturn self.sideA * self.sideB\n",
    "  \n",
    "\tdef getPerimeter(self):\n",
    "\t\treturn 2 * (self.sideA + self.sideB)\n",
    "\n",
    "class Circle:\n",
    "\n",
    "\tdef __init__(self,radius):\n",
    "\t\tself.radius = radius\n",
    "\n",
    "\tdef getArea(self):\n",
    "\t\treturn round(math.pi * self.radius ** 2)\n",
    "  \n",
    "\tdef getPerimeter(self):\n",
    "\t\treturn round(2 * math.pi * self.radius)"
   ]
  },
  {
   "cell_type": "code",
   "execution_count": 23,
   "metadata": {},
   "outputs": [],
   "source": [
    "circy = Circle(11)"
   ]
  },
  {
   "cell_type": "code",
   "execution_count": 24,
   "metadata": {},
   "outputs": [
    {
     "output_type": "execute_result",
     "data": {
      "text/plain": "380"
     },
     "metadata": {},
     "execution_count": 24
    }
   ],
   "source": [
    "circy.getArea() \n",
    "# Should return 380.132711084365"
   ]
  },
  {
   "cell_type": "code",
   "execution_count": 25,
   "metadata": {},
   "outputs": [
    {
     "output_type": "execute_result",
     "data": {
      "text/plain": "28"
     },
     "metadata": {},
     "execution_count": 25
    }
   ],
   "source": [
    "circy = Circle(4.44)\n",
    "circy.getPerimeter()\n",
    "# Should return 27.897342763877365"
   ]
  },
  {
   "cell_type": "markdown",
   "metadata": {},
   "source": [
    "Employee Parsing"
   ]
  },
  {
   "cell_type": "markdown",
   "metadata": {},
   "source": [
    "https://edabit.com/challenge/j2HauiSdDadkjxjsQ"
   ]
  },
  {
   "cell_type": "code",
   "execution_count": null,
   "metadata": {},
   "outputs": [],
   "source": [
    "class Employee:\n",
    "\tdef __init__(self, firstname, lastname, salary):\n",
    "\t\tself.firstname = firstname\n",
    "\t\tself.lastname = lastname\n",
    "\t\tself.salary = salary\n",
    "\t@classmethod\n",
    "\tdef from_string(cls, string):\n",
    "\t\tfirstname, lastname, salary = string.split('-')\n",
    "\t\treturn cls(firstname, lastname, int(salary))"
   ]
  },
  {
   "cell_type": "code",
   "execution_count": null,
   "metadata": {},
   "outputs": [],
   "source": []
  },
  {
   "cell_type": "code",
   "execution_count": null,
   "metadata": {},
   "outputs": [],
   "source": []
  },
  {
   "cell_type": "markdown",
   "metadata": {},
   "source": [
    "Friday the 13th"
   ]
  },
  {
   "cell_type": "markdown",
   "metadata": {},
   "source": [
    "https://edabit.com/challenge/Xkc2iAjwCap2z9N5D"
   ]
  },
  {
   "cell_type": "code",
   "execution_count": null,
   "metadata": {},
   "outputs": [],
   "source": [
    "\n",
    "\n",
    "\n",
    "\n"
   ]
  },
  {
   "cell_type": "code",
   "execution_count": null,
   "metadata": {},
   "outputs": [],
   "source": [
    "print(has_friday_13(3, 2020))\n",
    "\n",
    "print(has_friday_13(10, 2017))\n",
    "\n",
    "print(has_friday_13(1, 1985))"
   ]
  },
  {
   "cell_type": "markdown",
   "metadata": {},
   "source": [
    "Food for Everyone!"
   ]
  },
  {
   "cell_type": "markdown",
   "metadata": {},
   "source": [
    "https://edabit.com/challenge/iRvRtg2xxL9BnSEvf"
   ]
  },
  {
   "cell_type": "code",
   "execution_count": 4,
   "metadata": {},
   "outputs": [
    {
     "output_type": "execute_result",
     "data": {
      "text/plain": "['ice cream']"
     },
     "metadata": {},
     "execution_count": 4
    }
   ],
   "source": [
    "list([\"ice cream\"])"
   ]
  },
  {
   "cell_type": "code",
   "execution_count": 3,
   "metadata": {},
   "outputs": [
    {
     "output_type": "execute_result",
     "data": {
      "text/plain": "['ice cream', 'banana', 'mango']"
     },
     "metadata": {},
     "execution_count": 3
    }
   ],
   "source": [
    "list(['ice cream' , 'banana', 'mango'])"
   ]
  },
  {
   "cell_type": "code",
   "execution_count": 13,
   "metadata": {},
   "outputs": [],
   "source": [
    "class Person:\n",
    "    def __init__(self, person_name, like_list=None, hate_list=None):\n",
    "        self.person_name = person_name\n",
    "        self.like_list = list(like_list)\n",
    "        self.hate_list = list(hate_list)\n",
    "\n",
    "    \n",
    "    def taste(self, food_name):\n",
    "        self.food = food_name\n",
    "        if food_name in self.like_list:\n",
    "            return '{} eats the {} and loves it!'.format(self.person_name, food_name)\n",
    "        elif food_name in self.hate_list:\n",
    "            return '{} eats the {} and hates it!'.format(self.person_name, food_name)\n",
    "        else:\n",
    "            return '{} eats the {}!'.format(self.person_name, food_name)"
   ]
  },
  {
   "cell_type": "code",
   "execution_count": 14,
   "metadata": {},
   "outputs": [],
   "source": [
    "p1 = Person(\"Sam\", [\"ice cream\"], [\"carrots\"])"
   ]
  },
  {
   "cell_type": "code",
   "execution_count": 15,
   "metadata": {
    "tags": []
   },
   "outputs": [
    {
     "output_type": "stream",
     "name": "stdout",
     "text": "Sam eats the ice cream and loves it!\nSam eats the cheese!\nSam eats the carrots and hates it!\n"
    }
   ],
   "source": [
    "print(p1.taste(\"ice cream\"))\n",
    "\n",
    "print(p1.taste(\"cheese\"))\n",
    "\n",
    "print(p1.taste(\"carrots\"))"
   ]
  },
  {
   "cell_type": "code",
   "execution_count": 16,
   "metadata": {},
   "outputs": [],
   "source": [
    "class Person:\n",
    "    def __init__(self, person_name, like_list=[], hate_list=[]):\n",
    "        self.person_name = person_name\n",
    "        self.like_list = like_list\n",
    "        self.hate_list = hate_list\n",
    "\n",
    "    \n",
    "    def taste(self, food_name):\n",
    "        self.food = food_name\n",
    "        if food_name in self.like_list:\n",
    "            return '{} eats the {} and loves it!'.format(self.person_name, food_name)\n",
    "        elif food_name in self.hate_list:\n",
    "            return '{} eats the {} and hates it!'.format(self.person_name, food_name)\n",
    "        else:\n",
    "            return '{} eats the {}!'.format(self.person_name, food_name)"
   ]
  },
  {
   "cell_type": "code",
   "execution_count": 17,
   "metadata": {},
   "outputs": [],
   "source": [
    "p1 = Person(\"Sam\", [\"ice cream\"], [\"carrots\"])"
   ]
  },
  {
   "cell_type": "code",
   "execution_count": 18,
   "metadata": {
    "tags": []
   },
   "outputs": [
    {
     "output_type": "stream",
     "name": "stdout",
     "text": "Sam eats the ice cream and loves it!\nSam eats the cheese!\nSam eats the carrots and hates it!\n"
    }
   ],
   "source": [
    "print(p1.taste(\"ice cream\"))\n",
    "\n",
    "print(p1.taste(\"cheese\"))\n",
    "\n",
    "print(p1.taste(\"carrots\"))"
   ]
  },
  {
   "cell_type": "code",
   "execution_count": 19,
   "metadata": {},
   "outputs": [],
   "source": [
    "class Person:\n",
    "    def __init__(self, person_name, like_list, hate_list):\n",
    "        self.person_name = person_name\n",
    "        self.like_list = list(like_list)\n",
    "        self.hate_list = list(hate_list)\n",
    "\n",
    "    \n",
    "    def taste(self, food_name):\n",
    "        self.food = food_name\n",
    "        if food_name in self.like_list:\n",
    "            return '{} eats the {} and loves it!'.format(self.person_name, food_name)\n",
    "        elif food_name in self.hate_list:\n",
    "            return '{} eats the {} and hates it!'.format(self.person_name, food_name)\n",
    "        else:\n",
    "            return '{} eats the {}!'.format(self.person_name, food_name)"
   ]
  },
  {
   "cell_type": "code",
   "execution_count": 20,
   "metadata": {},
   "outputs": [],
   "source": [
    "p1 = Person(\"Sam\", [\"ice cream\"], [\"carrots\"])"
   ]
  },
  {
   "cell_type": "code",
   "execution_count": 21,
   "metadata": {
    "tags": []
   },
   "outputs": [
    {
     "output_type": "stream",
     "name": "stdout",
     "text": "Sam eats the ice cream and loves it!\nSam eats the cheese!\nSam eats the carrots and hates it!\n"
    }
   ],
   "source": [
    "print(p1.taste(\"ice cream\"))\n",
    "\n",
    "print(p1.taste(\"cheese\"))\n",
    "\n",
    "print(p1.taste(\"carrots\"))"
   ]
  },
  {
   "cell_type": "code",
   "execution_count": null,
   "metadata": {},
   "outputs": [],
   "source": []
  },
  {
   "cell_type": "code",
   "execution_count": null,
   "metadata": {},
   "outputs": [],
   "source": []
  }
 ]
}