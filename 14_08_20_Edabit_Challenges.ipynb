{
 "metadata": {
  "language_info": {
   "codemirror_mode": {
    "name": "ipython",
    "version": 3
   },
   "file_extension": ".py",
   "mimetype": "text/x-python",
   "name": "python",
   "nbconvert_exporter": "python",
   "pygments_lexer": "ipython3",
   "version": "3.8.5-final"
  },
  "orig_nbformat": 2,
  "kernelspec": {
   "name": "python_defaultSpec_1597338352580",
   "display_name": "Python 3.8.5 64-bit"
  }
 },
 "nbformat": 4,
 "nbformat_minor": 2,
 "cells": [
  {
   "cell_type": "markdown",
   "metadata": {},
   "source": [
    "Ones, Threes and Nines (Version #1)"
   ]
  },
  {
   "cell_type": "markdown",
   "metadata": {},
   "source": [
    "https://edabit.com/challenge/X6xZ2EaqqQbGF7Bwv"
   ]
  },
  {
   "cell_type": "code",
   "execution_count": 9,
   "metadata": {},
   "outputs": [],
   "source": [
    "class ones_threes_nines:\n",
    "    def __init__(self, num):\n",
    "        self.num = num\n",
    "        self.ones = self.num \n",
    "        self.threes = self.num // 3\n",
    "        self.nines = self.num // 9"
   ]
  },
  {
   "cell_type": "code",
   "execution_count": 10,
   "metadata": {},
   "outputs": [],
   "source": [
    "n1 = ones_threes_nines(5)"
   ]
  },
  {
   "cell_type": "code",
   "execution_count": 11,
   "metadata": {
    "tags": []
   },
   "outputs": [
    {
     "output_type": "stream",
     "name": "stdout",
     "text": "0\n5\n1\n"
    }
   ],
   "source": [
    "print(n1.nines)\n",
    "print(n1.ones)\n",
    "print(n1.threes)"
   ]
  },
  {
   "cell_type": "code",
   "execution_count": null,
   "metadata": {},
   "outputs": [],
   "source": [
    "class ones_threes_nines:\n",
    "\t\n",
    "\tdef __init__(self, n):\n",
    "\t\tself.ones = n\n",
    "\t\tself.threes = n // 3\n",
    "\t\tself.nines = n // 9"
   ]
  },
  {
   "cell_type": "code",
   "execution_count": null,
   "metadata": {},
   "outputs": [],
   "source": [
    "class ones_threes_nines:\n",
    "\tdef __init__(a,n):a.ones,a.threes,a.nines=n,n//3,n//9"
   ]
  },
  {
   "cell_type": "markdown",
   "metadata": {},
   "source": [
    "Lowercase and Uppercase Map"
   ]
  },
  {
   "cell_type": "markdown",
   "metadata": {},
   "source": [
    "https://edabit.com/challenge/pimnBHXJNtQffq4Cf"
   ]
  },
  {
   "cell_type": "code",
   "execution_count": 7,
   "metadata": {},
   "outputs": [
    {
     "output_type": "execute_result",
     "data": {
      "text/plain": "{'a': 'A', 'b': 'B', 'c': 'C'}"
     },
     "metadata": {},
     "execution_count": 7
    }
   ],
   "source": [
    "letters = ['a', 'b', 'c']\n",
    "def mapping(letters):\n",
    "    dict1 = {}\n",
    "    for i in letters:\n",
    "        dict1.update({i:i.upper()})\n",
    "    return dict1\n",
    "mapping(letters)"
   ]
  },
  {
   "cell_type": "code",
   "execution_count": 6,
   "metadata": {},
   "outputs": [
    {
     "output_type": "execute_result",
     "data": {
      "text/plain": "{'a': 'A', 'b': 'B', 'c': 'C'}"
     },
     "metadata": {},
     "execution_count": 6
    }
   ],
   "source": [
    "letters = ['a', 'b', 'c']\n",
    "def mapping(letters):\n",
    "\tdict1 = {}\n",
    "\tfor i in range(len(letters)):\n",
    "\t\tdict1.update({letters[i]:letters[i].upper()})\n",
    "\treturn dict1\n",
    "mapping(letters)"
   ]
  },
  {
   "cell_type": "code",
   "execution_count": 7,
   "metadata": {},
   "outputs": [
    {
     "output_type": "execute_result",
     "data": {
      "text/plain": "{'a': 'A', 'b': 'B', 'c': 'C'}"
     },
     "metadata": {},
     "execution_count": 7
    }
   ],
   "source": [
    "def mapping(letters):\n",
    "\treturn {i:i.upper() for i in letters}\n",
    "mapping(letters)"
   ]
  },
  {
   "cell_type": "code",
   "execution_count": 8,
   "metadata": {},
   "outputs": [
    {
     "output_type": "execute_result",
     "data": {
      "text/plain": "{'a': 'A', 'b': 'B', 'c': 'C'}"
     },
     "metadata": {},
     "execution_count": 8
    }
   ],
   "source": [
    "letters = ['a', 'b', 'c']\n",
    "def mapping(letters):\n",
    "\tdic = {}\n",
    "\tfor i in letters:\n",
    "\t\tdic[i]=i.upper()\n",
    "\treturn dic\n",
    "mapping(letters)"
   ]
  },
  {
   "cell_type": "code",
   "execution_count": 59,
   "metadata": {},
   "outputs": [
    {
     "output_type": "execute_result",
     "data": {
      "text/plain": "{'1': 1, '2': 2, '3': 3, '4': 4, '5': 5}"
     },
     "metadata": {},
     "execution_count": 59
    }
   ],
   "source": [
    "{str(i):i for i in [1,2,3,4,5]}\n",
    "#{'1': 1, '3': 3, '2': 2, '5': 5, '4': 4}"
   ]
  },
  {
   "cell_type": "code",
   "execution_count": 12,
   "metadata": {},
   "outputs": [
    {
     "output_type": "execute_result",
     "data": {
      "text/plain": "{'1': 1, '2': 8, '3': 27, '4': 64, '5': 125}"
     },
     "metadata": {},
     "execution_count": 12
    }
   ],
   "source": [
    "{str(i):i ** 3 for i in [1,2,3,4,5]}"
   ]
  },
  {
   "cell_type": "code",
   "execution_count": 64,
   "metadata": {},
   "outputs": [
    {
     "output_type": "execute_result",
     "data": {
      "text/plain": "{'A': 'a', 'B': 'b', 'C': 'c'}"
     },
     "metadata": {},
     "execution_count": 64
    }
   ],
   "source": [
    "{i.upper():i for i in ['a', 'b', 'c']}"
   ]
  },
  {
   "cell_type": "code",
   "execution_count": 65,
   "metadata": {},
   "outputs": [
    {
     "output_type": "execute_result",
     "data": {
      "text/plain": "{'a': 'A', 'b': 'B', 'c': 'C'}"
     },
     "metadata": {},
     "execution_count": 65
    }
   ],
   "source": [
    "{i:i.upper() for i in ['a', 'b', 'c']}\n"
   ]
  },
  {
   "cell_type": "code",
   "execution_count": 5,
   "metadata": {
    "tags": []
   },
   "outputs": [
    {
     "output_type": "stream",
     "name": "stdout",
     "text": "{'a': 1}\n"
    }
   ],
   "source": [
    "letters = ['a', 'b', 'c']\n",
    "dict1 = {}\n",
    "dict1.update(a=1)\n",
    "print(dict1)"
   ]
  },
  {
   "cell_type": "code",
   "execution_count": 35,
   "metadata": {},
   "outputs": [
    {
     "output_type": "execute_result",
     "data": {
      "text/plain": "{'a': 'A', 'b': 'B', 'c': 'C'}"
     },
     "metadata": {},
     "execution_count": 35
    }
   ],
   "source": [
    "{i:i.upper() for i in letters}"
   ]
  },
  {
   "cell_type": "code",
   "execution_count": 1,
   "metadata": {},
   "outputs": [
    {
     "output_type": "execute_result",
     "data": {
      "text/plain": "[1, 2]"
     },
     "metadata": {},
     "execution_count": 1
    }
   ],
   "source": [
    "d = {'a': 1, 'b': 2}\n",
    "values = list(map(lambda key: d[key], d.keys()))\n",
    "values"
   ]
  },
  {
   "cell_type": "markdown",
   "metadata": {},
   "source": [
    "Classes For Fetching Information on a Sports Player"
   ]
  },
  {
   "cell_type": "markdown",
   "metadata": {},
   "source": [
    "https://edabit.com/challenge/pa65DgwG5HMbtf6iY"
   ]
  },
  {
   "cell_type": "code",
   "execution_count": 1,
   "metadata": {},
   "outputs": [],
   "source": [
    "class player():\n",
    "    \n",
    "    def __init__(self, name, age, height, weight):\n",
    "        self.name = name\n",
    "        self.age = age\n",
    "        self.height = height\n",
    "        self.weight = weight\n",
    "    \n",
    "    def get_age(self):\n",
    "        return '{} is age {}'.format(self.name, self.age)\n",
    "    \n",
    "    def get_height(self):\n",
    "        return '{} is {}cm'.format(self.name, self.height)\n",
    "    \n",
    "    def get_weight(self):\n",
    "        return '{} weighs {}kg'.format(self.name, self.weight)"
   ]
  },
  {
   "cell_type": "code",
   "execution_count": 2,
   "metadata": {
    "tags": []
   },
   "outputs": [
    {
     "output_type": "stream",
     "name": "stdout",
     "text": "David Jones is age 25\nDavid Jones is 175cm\nDavid Jones weighs 75kg\n"
    }
   ],
   "source": [
    " p1 = player(\"David Jones\", 25, 175, 75)\n",
    "\n",
    "print(p1.get_age())\n",
    "print(p1.get_height())\n",
    "print(p1.get_weight())"
   ]
  },
  {
   "cell_type": "code",
   "execution_count": 13,
   "metadata": {},
   "outputs": [
    {
     "output_type": "execute_result",
     "data": {
      "text/plain": "'abc'"
     },
     "metadata": {},
     "execution_count": 13
    }
   ],
   "source": [
    "''.join(['a','b','c'])"
   ]
  },
  {
   "cell_type": "code",
   "execution_count": 16,
   "metadata": {},
   "outputs": [
    {
     "output_type": "execute_result",
     "data": {
      "text/plain": "'123'"
     },
     "metadata": {},
     "execution_count": 16
    }
   ],
   "source": [
    "''.join(['1','2','3'])"
   ]
  },
  {
   "cell_type": "code",
   "execution_count": null,
   "metadata": {},
   "outputs": [],
   "source": []
  }
 ]
}