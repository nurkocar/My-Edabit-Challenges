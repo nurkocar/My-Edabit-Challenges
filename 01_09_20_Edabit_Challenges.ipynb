{
 "metadata": {
  "language_info": {
   "codemirror_mode": {
    "name": "ipython",
    "version": 3
   },
   "file_extension": ".py",
   "mimetype": "text/x-python",
   "name": "python",
   "nbconvert_exporter": "python",
   "pygments_lexer": "ipython3",
   "version": "3.8.5-final"
  },
  "orig_nbformat": 2,
  "kernelspec": {
   "name": "python_defaultSpec_1599541943905",
   "display_name": "Python 3.8.5 64-bit"
  }
 },
 "nbformat": 4,
 "nbformat_minor": 2,
 "cells": [
  {
   "cell_type": "markdown",
   "metadata": {},
   "source": [
    "Ones Threes Nines Version#2"
   ]
  },
  {
   "cell_type": "markdown",
   "metadata": {},
   "source": [
    "https://edabit.com/challenge/8Fwv2f8My4kcNjMZh"
   ]
  },
  {
   "cell_type": "code",
   "execution_count": 14,
   "metadata": {},
   "outputs": [],
   "source": [
    "class ones_threes_nines:\n",
    "\tdef __init__(self, answer):\n",
    "\t\tself.answer = 'nines:{}, threes:{}, ones:{}'.format((answer // 9), ((answer % 9) // 3), (answer % 3))"
   ]
  },
  {
   "cell_type": "code",
   "execution_count": 15,
   "metadata": {
    "tags": []
   },
   "outputs": [
    {
     "output_type": "execute_result",
     "data": {
      "text/plain": "'nines:0, threes:2, ones:1'"
     },
     "metadata": {},
     "execution_count": 15
    }
   ],
   "source": [
    "n1 = ones_threes_nines(1)\n",
    "n2 = ones_threes_nines(5)\n",
    "n3 = ones_threes_nines(7)\n",
    "n3.answer"
   ]
  },
  {
   "cell_type": "code",
   "execution_count": null,
   "metadata": {},
   "outputs": [],
   "source": []
  }
 ]
}