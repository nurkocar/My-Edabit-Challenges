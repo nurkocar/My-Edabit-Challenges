{
 "metadata": {
  "language_info": {
   "codemirror_mode": {
    "name": "ipython",
    "version": 3
   },
   "file_extension": ".py",
   "mimetype": "text/x-python",
   "name": "python",
   "nbconvert_exporter": "python",
   "pygments_lexer": "ipython3",
   "version": "3.8.5-final"
  },
  "orig_nbformat": 2,
  "kernelspec": {
   "name": "python_defaultSpec_1597992737514",
   "display_name": "Python 3.8.5 64-bit"
  }
 },
 "nbformat": 4,
 "nbformat_minor": 2,
 "cells": [
  {
   "cell_type": "markdown",
   "metadata": {},
   "source": [
    "The Sweetest Ice Cream"
   ]
  },
  {
   "cell_type": "markdown",
   "metadata": {},
   "source": [
    "https://edabit.com/challenge/uerTkWm9K3oMtMZKz"
   ]
  },
  {
   "cell_type": "markdown",
   "metadata": {},
   "source": [
    "Sorunun Cozumu asagidaki gibi"
   ]
  },
  {
   "cell_type": "code",
   "execution_count": 1,
   "metadata": {},
   "outputs": [],
   "source": [
    "class IceCream:\n",
    "\tdef __init__(self, flavor, num_sprinkles):\n",
    "\t\tself.flavor = flavor\n",
    "\t\tself.num_sprinkles = num_sprinkles"
   ]
  },
  {
   "cell_type": "code",
   "execution_count": 2,
   "metadata": {},
   "outputs": [],
   "source": [
    "ice1 = IceCream(\"Chocolate\", 13)\n",
    "ice2 = IceCream(\"Vanilla\", 0)\n",
    "ice3 = IceCream(\"Strawberry\", 7)\n",
    "ice4 = IceCream(\"Plain\", 18)\n",
    "ice5 = IceCream(\"ChocolateChip\", 3)\n",
    "ice6 = IceCream(\"Chocolate\", 23)\n",
    "ice7 = IceCream(\"Strawberry\", 0)\n",
    "ice8 = IceCream(\"Plain\", 34)\n",
    "ice9 = IceCream(\"Plain\", 81)\n",
    "ice10 = IceCream(\"Vanilla\", 12)"
   ]
  },
  {
   "cell_type": "code",
   "execution_count": 3,
   "metadata": {},
   "outputs": [],
   "source": [
    "def sweetest_icecream(lst):\n",
    "\tflavors = {\n",
    "\t'Plain': 0, \n",
    "\t'Vanilla': 5, \n",
    "\t'ChocolateChip': 5, \n",
    "\t'Strawberry': 10, \n",
    "\t'Chocolate': 10\n",
    "\t}\n",
    "\tvalue = []\n",
    "\tfor i in lst:\n",
    "\t\tvalue.append(i.num_sprinkles + flavors.get(i.flavor))\n",
    "\treturn max(value)"
   ]
  },
  {
   "cell_type": "code",
   "execution_count": 4,
   "metadata": {
    "tags": []
   },
   "outputs": [
    {
     "output_type": "stream",
     "name": "stdout",
     "text": "23\n34\n34\n81\n34\n23\n33\n"
    }
   ],
   "source": [
    "print(sweetest_icecream([ice1, ice2, ice3, ice4, ice5]))\n",
    "print(sweetest_icecream([ice7, ice10, ice1, ice6, ice8, ice10, ice2, ice2]))\n",
    "print(sweetest_icecream([ice10, ice10, ice6, ice8, ice4]))\n",
    "print(sweetest_icecream([ice2, ice10, ice6, ice9, ice7]))\n",
    "print(sweetest_icecream([ice10, ice6, ice4, ice1, ice7, ice8, ice6]))\n",
    "print(sweetest_icecream([ice3, ice1]))\n",
    "print(sweetest_icecream([ice6, ice7, ice5, ice4, ice3]))"
   ]
  },
  {
   "cell_type": "markdown",
   "metadata": {},
   "source": [
    "Bu asagidakiler de soru uzerinde oynayarak elde edilmis baska sonuclar(sweetness metodunu bir attribute mus gibi cagirmak istersek (ice1.sweetness, ice2.sweetness, ....) basina @property key ini koyuyoruz )"
   ]
  },
  {
   "cell_type": "code",
   "execution_count": 27,
   "metadata": {},
   "outputs": [],
   "source": [
    "class IceCream:\n",
    "\n",
    "    flavors_dic = {\n",
    "        'Plain': 0,\n",
    "        'Vanilla': 5,\n",
    "        'ChocolateChip': 5,\n",
    "        'Strawberry': 10,\n",
    "        'Chocolate': 10\n",
    "        }\n",
    "    def __init__(self, flavor, num_sprinkles):\n",
    "        self.flavor = flavor\n",
    "        self.num_sprinkles = num_sprinkles\n",
    "\n",
    "    @property\n",
    "    def sweetness(self):\n",
    "        return int(self.num_sprinkles + IceCream.flavors_dic[self.flavor])\n"
   ]
  },
  {
   "cell_type": "code",
   "execution_count": 28,
   "metadata": {},
   "outputs": [],
   "source": [
    "ice1 = IceCream(\"Chocolate\", 13)\n",
    "ice2 = IceCream(\"Vanilla\", 0)\n",
    "ice3 = IceCream(\"Strawberry\", 7)\n",
    "ice4 = IceCream(\"Plain\", 18)\n",
    "ice5 = IceCream(\"ChocolateChip\", 3)\n",
    "ice6 = IceCream(\"Chocolate\", 23)\n",
    "ice7 = IceCream(\"Strawberry\", 0)\n",
    "ice8 = IceCream(\"Plain\", 34)\n",
    "ice9 = IceCream(\"Plain\", 81)\n",
    "ice10 = IceCream(\"Vanilla\", 12)"
   ]
  },
  {
   "cell_type": "code",
   "execution_count": 29,
   "metadata": {
    "tags": []
   },
   "outputs": [
    {
     "output_type": "stream",
     "name": "stdout",
     "text": "23\n5\n17\n18\n8\n33\n10\n34\n81\n17\n"
    }
   ],
   "source": [
    "print(ice1.sweetness)\n",
    "print(ice2.sweetness)\n",
    "print(ice3.sweetness)\n",
    "print(ice4.sweetness)\n",
    "print(ice5.sweetness)\n",
    "print(ice6.sweetness)\n",
    "print(ice7.sweetness)\n",
    "print(ice8.sweetness)\n",
    "print(ice9.sweetness)\n",
    "print(ice10.sweetness)"
   ]
  },
  {
   "cell_type": "markdown",
   "metadata": {},
   "source": [
    "Asagidaki ise, liste halinde metoda gonderdigimiz objelerin sweetness degerlerini, yine liste halinde goruntuleyebilmek icin"
   ]
  },
  {
   "cell_type": "code",
   "execution_count": 40,
   "metadata": {},
   "outputs": [],
   "source": [
    "class IceCream:\n",
    "\n",
    "    flavors_dic = {\n",
    "        'Plain': 0,\n",
    "        'Vanilla': 5,\n",
    "        'ChocolateChip': 5,\n",
    "        'Strawberry': 10,\n",
    "        'Chocolate': 10\n",
    "        }\n",
    "    def __init__(self, flavor, num_sprinkles):\n",
    "        self.flavor = flavor\n",
    "        self.num_sprinkles = num_sprinkles\n",
    "\n",
    "    @property\n",
    "    def sweetness(self):\n",
    "        return int(self.num_sprinkles + IceCream.flavors_dic.get(self.flavor))\n",
    "\n",
    "    def list_sweetness(lst):\n",
    "        swtn_list = []\n",
    "        for i in lst:\n",
    "            swtn_list.append(i.sweetness)\n",
    "        return swtn_list"
   ]
  },
  {
   "cell_type": "code",
   "execution_count": 41,
   "metadata": {},
   "outputs": [],
   "source": [
    "ice1 = IceCream(\"Chocolate\", 13)\n",
    "ice2 = IceCream(\"Vanilla\", 0)\n",
    "ice3 = IceCream(\"Strawberry\", 7)\n",
    "ice4 = IceCream(\"Plain\", 18)\n",
    "ice5 = IceCream(\"ChocolateChip\", 3)\n",
    "ice6 = IceCream(\"Chocolate\", 23)\n",
    "ice7 = IceCream(\"Strawberry\", 0)\n",
    "ice8 = IceCream(\"Plain\", 34)\n",
    "ice9 = IceCream(\"Plain\", 81)\n",
    "ice10 = IceCream(\"Vanilla\", 12)"
   ]
  },
  {
   "cell_type": "code",
   "execution_count": 43,
   "metadata": {
    "tags": []
   },
   "outputs": [
    {
     "output_type": "stream",
     "name": "stdout",
     "text": "[23, 5, 17, 18, 8, 33, 10, 34, 81, 17]\n"
    }
   ],
   "source": [
    "print(IceCream.list_sweetness([ice1, ice2, ice3, ice4, ice5, ice6, ice7, ice8, ice9, ice10]))"
   ]
  },
  {
   "cell_type": "code",
   "execution_count": null,
   "metadata": {},
   "outputs": [],
   "source": []
  },
  {
   "cell_type": "markdown",
   "metadata": {},
   "source": [
    "Strictly Increasing or Decreasing"
   ]
  },
  {
   "cell_type": "markdown",
   "metadata": {},
   "source": [
    "https://edabit.com/challenge/hZi6AhWEzGASB7tWR"
   ]
  },
  {
   "cell_type": "code",
   "execution_count": null,
   "metadata": {},
   "outputs": [],
   "source": []
  },
  {
   "cell_type": "code",
   "execution_count": null,
   "metadata": {},
   "outputs": [],
   "source": []
  },
  {
   "cell_type": "markdown",
   "metadata": {},
   "source": [
    "Is it Time for Milk and Cookies?"
   ]
  },
  {
   "cell_type": "markdown",
   "metadata": {},
   "source": [
    "https://edabit.com/challenge/6nSckbgCx9hjTwmcw"
   ]
  },
  {
   "cell_type": "code",
   "execution_count": null,
   "metadata": {},
   "outputs": [],
   "source": []
  },
  {
   "cell_type": "code",
   "execution_count": null,
   "metadata": {},
   "outputs": [],
   "source": []
  },
  {
   "cell_type": "markdown",
   "metadata": {},
   "source": [
    "Fullname and Email"
   ]
  },
  {
   "cell_type": "markdown",
   "metadata": {},
   "source": [
    "https://edabit.com/challenge/gB7nt6WzZy8TymCah"
   ]
  },
  {
   "cell_type": "code",
   "execution_count": 4,
   "metadata": {},
   "outputs": [],
   "source": [
    "class Employee:\n",
    "\tdef __init__(self, firstname, lastname):\n",
    "\t\tself.firstname = firstname\n",
    "\t\tself.lastname = lastname\n",
    "\t\tself.email = '{}.{}@company.com'.format(firstname.lower(), lastname.lower())\n",
    "\t\tself.fullname = '{} {}'.format(firstname, lastname)"
   ]
  },
  {
   "cell_type": "code",
   "execution_count": 5,
   "metadata": {},
   "outputs": [],
   "source": [
    "emp_1 = Employee(\"John\", \"Smith\")\n",
    "emp_2 = Employee(\"Mary\",  \"Sue\")\n",
    "emp_3 = Employee(\"Antony\", \"Walker\")\n",
    "emp_4 = Employee(\"Joshua\", \"Senoron\")"
   ]
  },
  {
   "cell_type": "code",
   "execution_count": 6,
   "metadata": {
    "tags": []
   },
   "outputs": [
    {
     "output_type": "stream",
     "name": "stdout",
     "text": "Antony\nWalker\nAntony Walker\nantony.walker@company.com\nJoshua\nSenoron\n"
    }
   ],
   "source": [
    "print(emp_3.firstname)\n",
    "print(emp_3.lastname)\n",
    "print(emp_3.fullname)\n",
    "print(emp_3.email)\n",
    "print(emp_4.firstname)\n",
    "print(emp_4.lastname)"
   ]
  },
  {
   "cell_type": "code",
   "execution_count": null,
   "metadata": {},
   "outputs": [],
   "source": []
  },
  {
   "cell_type": "code",
   "execution_count": null,
   "metadata": {},
   "outputs": [],
   "source": []
  },
  {
   "cell_type": "code",
   "execution_count": null,
   "metadata": {},
   "outputs": [],
   "source": []
  }
 ]
}